{
  "nbformat": 4,
  "nbformat_minor": 0,
  "metadata": {
    "colab": {
      "name": "dog-breed-identification.ipynb",
      "provenance": [],
      "collapsed_sections": [],
      "mount_file_id": "119e9qVOzpMxisOu3N88wO3G9KyYJWIos",
      "authorship_tag": "ABX9TyMsFbSspApfuU8Zz308oBOQ"
    },
    "kernelspec": {
      "name": "python3",
      "display_name": "Python 3"
    },
    "language_info": {
      "name": "python"
    }
  },
  "cells": [
    {
      "cell_type": "markdown",
      "metadata": {
        "id": "b8rX78bLy4KB"
      },
      "source": [
        "# Dog Breed Classification"
      ]
    },
    {
      "cell_type": "code",
      "metadata": {
        "id": "PJnggJpry8fO"
      },
      "source": [
        ""
      ],
      "execution_count": null,
      "outputs": []
    }
  ]
}